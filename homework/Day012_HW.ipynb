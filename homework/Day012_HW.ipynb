{
 "cells": [
  {
   "cell_type": "markdown",
   "metadata": {},
   "source": [
    "# Ettoday 網路爬蟲實作練習\n",
    "\n",
    "\n",
    "* 能夠利用 Request + BeatifulSour 撰寫爬蟲，並存放到合適的資料結構\n"
   ]
  },
  {
   "cell_type": "markdown",
   "metadata": {},
   "source": [
    "## 作業目標\n",
    "\n",
    "根據範例 ，完成以下問題：\n",
    "\n",
    "* ① 取出今天所有的發文\n",
    "* ② 如果想要依照類別分類，怎麼儲存會比較好？\n",
    "* ③ 哪一個類別的文章最多\n",
    "\n",
    "\n"
   ]
  },
  {
   "cell_type": "markdown",
   "metadata": {},
   "source": [
    "### ① 取出今天所有的發文"
   ]
  },
  {
   "cell_type": "code",
   "execution_count": 16,
   "metadata": {
    "scrolled": false
   },
   "outputs": [],
   "source": [
    "'''\n",
    "Your Code\n",
    "'''\n",
    "import requests\n",
    "from bs4 import BeautifulSoup\n",
    "\n",
    "url = 'https://www.ettoday.net/news/news-list.htm'\n",
    "r = requests.get(url)\n",
    "\n",
    "soup = BeautifulSoup(r.text, \"html5lib\")\n",
    "\n",
    "tag_c = []\n",
    "\n",
    "for d in soup.find(class_=\"part_list_2\").find_all('h3'):\n",
    "    #print(d.find(class_=\"date\").text, d.find_all('a')[-1].text)\n",
    "    c = d.find(class_=\"date\").text, d.find('em').text, d.find_all('a')[-1].text\n",
    "    tag_c.append(c[1])\n",
    "    "
   ]
  },
  {
   "cell_type": "markdown",
   "metadata": {},
   "source": [
    "### ② 如果想要依照類別分類，怎麼儲存會比較好？"
   ]
  },
  {
   "cell_type": "code",
   "execution_count": 17,
   "metadata": {},
   "outputs": [
    {
     "name": "stdout",
     "output_type": "stream",
     "text": [
      "['影劇', '財經', '時尚', '影劇', '政治', '國際', '政治', '影劇', '社會', '財經', '影劇', '財經', '社會', '社會', '生活', '政治', '健康', '影劇', '體育', '社會', '生活', '國際', '政治', '生活', '財經', '影劇', '影劇', '網搜', '影劇', '生活', '影劇', '時尚', '寵物動物', '影劇', '影劇', 'ET車雲', '政治', '生活', '生活', '體育', '體育', '生活', '生活', '生活', '體育', '財經', '財經', '影劇', '影劇', '房產雲', '體育', '消費', '旅遊', '影劇', '生活', '生活', '影劇', '影劇', '時尚', '健康', '財經', '影劇', '保險', '影劇', '大陸', '體育', '影劇', '大陸', '財經', '社會', '影劇', '體育', '國際', '體育', '政治', '大陸', '生活', '大陸', '體育', '影劇', '健康', '社會', '寵物動物', '生活', '影劇', '政治', '影劇', '國際', '政治', '大陸', '財經', '財經', '時尚', '3C家電', '3C家電', '生活', '政治', '生活', '論壇', '3C家電']\n"
     ]
    }
   ],
   "source": [
    "'''\n",
    "Your Code\n",
    "'''\n",
    "\n",
    "print(tag_c)"
   ]
  },
  {
   "cell_type": "markdown",
   "metadata": {},
   "source": [
    "### ③ 哪一個類別的文章最多"
   ]
  },
  {
   "cell_type": "code",
   "execution_count": 33,
   "metadata": {
    "scrolled": true
   },
   "outputs": [
    {
     "name": "stdout",
     "output_type": "stream",
     "text": [
      "{'3C家電': 3, '體育': 9, '財經': 10, '論壇': 1, '寵物動物': 2, '健康': 3, '生活': 15, '旅遊': 1, '影劇': 23, '房產雲': 1, '政治': 9, '消費': 1, '網搜': 1, 'ET車雲': 1, '國際': 4, '大陸': 5, '保險': 1, '社會': 6, '時尚': 4}\n",
      "\n",
      "\n",
      " <影劇>文章最多\n"
     ]
    }
   ],
   "source": [
    "'''\n",
    "Your Code\n",
    "'''\n",
    "keys = set(tag_c)\n",
    "values = [0 for i in range(len(keys))]\n",
    "\n",
    "dict_class = dict(zip(keys,values))\n",
    "\n",
    "for i in range(len(tag_c)):\n",
    "    c = tag_c[i]\n",
    "    dict_class[c] += 1\n",
    "\n",
    "print(dict_class)\n",
    "\n",
    "\n",
    "print('\\n\\n <{}>文章最多'.format(max(dict_class, key=dict_class.get)))\n",
    "\n"
   ]
  },
  {
   "cell_type": "code",
   "execution_count": null,
   "metadata": {},
   "outputs": [],
   "source": []
  },
  {
   "cell_type": "code",
   "execution_count": null,
   "metadata": {},
   "outputs": [],
   "source": []
  },
  {
   "cell_type": "code",
   "execution_count": null,
   "metadata": {},
   "outputs": [],
   "source": []
  }
 ],
 "metadata": {
  "kernelspec": {
   "display_name": "Python 3",
   "language": "python",
   "name": "python3"
  },
  "language_info": {
   "codemirror_mode": {
    "name": "ipython",
    "version": 3
   },
   "file_extension": ".py",
   "mimetype": "text/x-python",
   "name": "python",
   "nbconvert_exporter": "python",
   "pygments_lexer": "ipython3",
   "version": "3.7.4"
  }
 },
 "nbformat": 4,
 "nbformat_minor": 2
}
