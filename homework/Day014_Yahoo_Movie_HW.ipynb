{
 "cells": [
  {
   "cell_type": "markdown",
   "metadata": {},
   "source": [
    "# YAHOO電影爬蟲練習\n",
    "## 練習爬取電影放映資訊。必須逐步獲取電影的代號、放映地區、放映日期後，再送出查詢給伺服器。"
   ]
  },
  {
   "cell_type": "code",
   "execution_count": 29,
   "metadata": {},
   "outputs": [],
   "source": [
    "import requests\n",
    "import re\n",
    "from bs4 import BeautifulSoup"
   ]
  },
  {
   "cell_type": "markdown",
   "metadata": {},
   "source": [
    "### 先搜尋全部的電影代號(ID)資訊"
   ]
  },
  {
   "cell_type": "code",
   "execution_count": 30,
   "metadata": {},
   "outputs": [
    {
     "name": "stdout",
     "output_type": "stream",
     "text": [
      "Movie: 復仇母親, ID: 10392\n",
      "Movie: 風暴過後, ID: 10387\n",
      "Movie: 南方車站的聚會, ID: 10380\n",
      "Movie: 祭旗, ID: 10373\n",
      "Movie: 唯你是愛, ID: 10370\n",
      "Movie: 屍控療法, ID: 10367\n",
      "Movie: 黑熊來了, ID: 10357\n",
      "Movie: 唐人街探案2, ID: 10353\n",
      "Movie: 黑計畫, ID: 10351\n",
      "Movie: HUMAN LOST人間失格, ID: 10348\n",
      "Movie: 假面騎士劇場版ZI-O Over Quartzer, ID: 10331\n",
      "Movie: 巴黎小情聖, ID: 10329\n",
      "Movie: 每個月來訪一次的月經醬, ID: 10324\n",
      "Movie: 8級警戒, ID: 10323\n",
      "Movie: 為你存在的每一天, ID: 10297\n",
      "Movie: 黑色聖誕節, ID: 10291\n",
      "Movie: 熱氣球飛行家, ID: 10257\n",
      "Movie: 大說謊家, ID: 10122\n",
      "Movie: 特約經紀公司, ID: 10364\n",
      "Movie: 一屍到底番外篇：好萊塢大作戰！, ID: 10352\n",
      "Movie: 花生醬獵鷹的願望, ID: 10340\n",
      "Movie: 女孩要革命, ID: 10339\n",
      "Movie: 我的靈魂是愛做的, ID: 10336\n",
      "Movie: 絕世情歌, ID: 10328\n",
      "Movie: 人間失格：太宰治與他的3個女人, ID: 10287\n",
      "Movie: 抓狂博物館, ID: 10279\n",
      "Movie: 呆萌特務, ID: 10264\n",
      "Movie: 去年聖誕節, ID: 10256\n",
      "Movie: 野蠻遊戲：全面晉級, ID: 10134\n",
      "Movie: 夕霧花園, ID: 10327\n",
      "Movie: 寂寞診療室, ID: 10282\n",
      "Movie: 懸案密碼前傳：瓶中信, ID: 10254\n",
      "Movie: 布魯克林孤兒, ID: 10224\n",
      "Movie: 暴走曼哈頓, ID: 10044\n",
      "Movie: 鋒迴路轉, ID: 10258\n",
      "Movie: 賽道狂人, ID: 10097\n",
      "Movie: 麂皮：永不滿足, ID: 10358\n",
      "Movie: 82年生的金智英, ID: 10298\n",
      "Movie: BanG Dream！ FILM LIVE, ID: 10271\n",
      "Movie: 冰雪奇緣2, ID: 9597\n",
      "Movie: Hello World, ID: 10302\n",
      "Movie: 萬萬沒想到, ID: 10281\n",
      "Movie: 為美好的世界獻上祝福！紅傳說, ID: 10226\n",
      "Movie: 山田孝之的痛苦與榮耀, ID: 10301\n",
      "Movie: 決戰中途島, ID: 10130\n",
      "Movie: 安眠醫生, ID: 10098\n",
      "Movie: 魔鬼終結者：黑暗宿命, ID: 10067\n",
      "Movie: 陽光普照, ID: 10240\n",
      "Movie: 狙擊獵殺：救援行動, ID: 10284\n",
      "Movie: 雙子殺手, ID: 10017\n",
      "Movie: 盲人律師, ID: 10267\n",
      "Movie: 黑魔女2, ID: 10262\n",
      "Movie: 電影版 壞傢伙們, ID: 10249\n",
      "Movie: 藍波：最後一滴血, ID: 10205\n",
      "Movie: 屍樂園：髒比雙拼, ID: 10176\n",
      "Movie: 弒婚遊戲, ID: 10171\n",
      "Movie: 108悍將, ID: 10238\n",
      "Movie: 小丑, ID: 9949\n",
      "Movie: 校外打怪教學, ID: 10200\n",
      "Movie: 信用詐欺師JP, ID: 10190\n",
      "Movie: 無間行動, ID: 10155\n",
      "Movie: 星際救援, ID: 10227\n",
      "Movie: 返校, ID: 10109\n",
      "Movie: 唐頓莊園, ID: 10064\n",
      "Movie: 舞孃騙很大, ID: 10199\n",
      "Movie: 花椒之味, ID: 10158\n",
      "Movie: 好小男孩, ID: 9894\n",
      "Movie: 牠 第二章, ID: 10042\n",
      "Movie: 極限逃生, ID: 10174\n",
      "Movie: 你願意嫁給我老公嗎？, ID: 10141\n",
      "Movie: 下半場, ID: 9807\n",
      "Movie: 全面攻佔3：天使救援, ID: 10082\n",
      "Movie: 普羅米亞, ID: 10119\n",
      "Movie: 朵拉與失落的黃金城, ID: 9920\n",
      "Movie: 獅子王, ID: 9116\n",
      "Movie: 玩具總動員4, ID: 9924\n",
      "Movie: 毀滅者, ID: 9405\n",
      "Movie: 庫爾斯克號：深海救援, ID: 9134\n",
      "Movie: 厄夜追緝令, ID: 9589\n",
      "Movie: 苦兒流浪記, ID: 9538\n",
      "Movie: 活個精彩, ID: 9394\n",
      "Movie: 限時好友, ID: 9578\n",
      "Movie: 祝你忌日快樂, ID: 9568\n",
      "Movie: 艾莉塔：戰鬥天使, ID: 8553\n",
      "Movie: 馴龍高手3, ID: 8350\n",
      "Movie: 幸福綠皮書, ID: 9150\n",
      "Movie: 一首搖滾上月球, ID: 4887\n",
      "Movie: 錢不夠用2, ID: 3026\n"
     ]
    }
   ],
   "source": [
    "# 查看目前上映那些電影，並擷取出其ID資訊\n",
    "url = 'https://movies.yahoo.com.tw/'\n",
    "resp = requests.get(url)\n",
    "resp.encoding = 'utf-8'\n",
    "\n",
    "soup = BeautifulSoup(resp.text, 'lxml')\n",
    "html = soup.find(\"select\", attrs={'name':'movie_id'})\n",
    "movie_item = html.find_all(\"option\", attrs={'data-name':re.compile('.*')})\n",
    "\n",
    "for p in movie_item:\n",
    "    print(\"Movie: %s, ID: %s\" % (p[\"data-name\"], p[\"value\"]))"
   ]
  },
  {
   "cell_type": "markdown",
   "metadata": {},
   "source": [
    "### 指定你有興趣的電影其ID，然後查詢其放映地區資訊。"
   ]
  },
  {
   "cell_type": "code",
   "execution_count": 74,
   "metadata": {},
   "outputs": [],
   "source": [
    "# 參考前一個步驟中擷取到的ID資訊，並指定ID\n",
    "movie_id = 9597"
   ]
  },
  {
   "cell_type": "code",
   "execution_count": 75,
   "metadata": {},
   "outputs": [
    {
     "name": "stdout",
     "output_type": "stream",
     "text": [
      "放映地區: 台北市, 代號(area_id): 28\n",
      "放映地區: 新北市, 代號(area_id): 8\n",
      "放映地區: 桃園, 代號(area_id): 16\n",
      "放映地區: 新竹, 代號(area_id): 20\n",
      "放映地區: 苗栗, 代號(area_id): 15\n",
      "放映地區: 台中, 代號(area_id): 2\n",
      "放映地區: 彰化, 代號(area_id): 22\n",
      "放映地區: 南投, 代號(area_id): 13\n",
      "放映地區: 雲林, 代號(area_id): 19\n",
      "放映地區: 嘉義, 代號(area_id): 21\n",
      "放映地區: 台南, 代號(area_id): 10\n",
      "放映地區: 高雄, 代號(area_id): 17\n",
      "放映地區: 屏東, 代號(area_id): 14\n",
      "放映地區: 基隆, 代號(area_id): 18\n",
      "放映地區: 宜蘭, 代號(area_id): 11\n",
      "放映地區: 花蓮, 代號(area_id): 12\n",
      "放映地區: 台東, 代號(area_id): 9\n",
      "放映地區: 金門, 代號(area_id): 24\n",
      "放映地區: 澎湖, 代號(area_id): 23\n"
     ]
    }
   ],
   "source": [
    "url = 'https://movies.yahoo.com.tw/api/v1/areas_by_movie_theater'\n",
    "payload = {'movie_id':str(movie_id)}\n",
    "\n",
    "# 模擬一個header\n",
    "headers = {\n",
    "    'authority': 'movies.yahoo.com.tw',\n",
    "    'method': 'GET',\n",
    "    'path': '/api/v1/areas_by_movie_theater?movie_id=' + str(movie_id),\n",
    "    'scheme': 'https',\n",
    "    'accept': 'application/json, text/javascript, */*; q=0.01',\n",
    "    'accept-encoding': 'gzip, deflate, br',\n",
    "    'accept-language': 'zh-TW,zh;q=0.9,en-US;q=0.8,en;q=0.7,zh-CN;q=0.6',\n",
    "    'cookie': 'rxx=9s3x2fws06.1g16irnc&v=1; _ga=GA1.3.2056742944.1551651301; GUC=AQEBAQFczFpdm0IfmwSB&s=AQAAACoo4N5D&g=XMsVBw; BX=4hkdk1decm57t&b=3&s=mr; _ga=GA1.4.2056742944.1551651301; nexagesuid=82843256dd234e8e91aa73f2062f8218; browsed_movie=eyJpdiI6IlJXWWtiSWJaZlNGK2MxQnhscnVUYWc9PSIsInZhbHVlIjoiMXRhMmVHRXRIeUNjc1RBWDJzdGYwbnlIQURmWGsrcjJSMzhkbkcraDNJVUNIZEZsbzU3amlFcVZ1NzlmazJrTGpoMjVrbHk1YmpoRENXaHZTOUw1TmI2ZTZVWHdOejZQZm16RmVuMWlHTTJLaTZLVFZZVkFOMDlTd1wvSGltcytJIiwibWFjIjoiZWQ2ZjA4MmVjZmZlYjlmNjJmYmY2NGMyMDI0Njc0NWViYjVkOWE2NDg0N2RhODMxZjBjZDhiMmJhZTc2MDZhYiJ9; avi=eyJpdiI6Im1NeWFJRlVRWDR1endEcGRGUGJUbVE9PSIsInZhbHVlIjoickRpU3JuUytmcGl6cjF5OW0rNU9iZz09IiwibWFjIjoiY2VmY2NkNzZmM2NhNjY5YzlkOTcyNjE5OGEyMzU0NWYxOTdmMDRkMDY3OWNmMmZjOTMxYjc5MjI5N2Q5NGE5MiJ9; cmp=t=1559391030&j=0; _gid=GA1.4.779543841.1559391031; XSRF-TOKEN=eyJpdiI6IkhpS2hGcDRQaHlmWUJmaHdSS2Q2bHc9PSIsInZhbHVlIjoiOUVoNFk4OHI1UUZmUWRtYXhza0MyWjJSTlhlZ3RnT0VGeVJPN2JuczVRMGRFdWt2OUlsamVKeHRobFwvcHBGM0dhU3VyMXNGTHlsb2dVM2l0U1hpUGxBPT0iLCJtYWMiOiJkZWU4YzJhNjAxMTY3MzE4Y2ExNWIxYmE1ZjE1YWZlZTlhOTcyYjc4M2RlZGY4ZWNjZDYyMTA2NGYwZGViMzc2In0%3D; m_s=eyJpdiI6InpsZHZ2Tk1BZ0dxaHhETml1RjBnUXc9PSIsInZhbHVlIjoiSkNGeHUranRoXC85bDFiaDhySTJqNkJRcWdjWUxjeVRJSHVYZ1wvd2d4bWJZUTUrSHVDM0lUcW5KNHdETFZ4T1lieU81OUhzc1VoUXhZcWk0UDZSQXVFdz09IiwibWFjIjoiYmJkMDJkMDhlODIzMzcyMWY4M2NmYWNjNGVlOWRjMDIwZmVmNzAyMjE3Yzg3ZGY3ODBkZWEzZTI4MTI5ZWNmOSJ9; _gat=1; nexagesd=10',\n",
    "    'dnt': '1',\n",
    "    'mv-authorization': '21835b082e15b91a69b3851eec7b31b82ce82afb',\n",
    "    'referer': 'https://movies.yahoo.com.tw/',\n",
    "    'user-agent': 'Mozilla/5.0 (Windows NT 10.0; Win64; x64) AppleWebKit/537.36 (KHTML, like Gecko) Chrome/74.0.3729.169 Safari/537.36',\n",
    "    'x-requested-with': 'XMLHttpRequest',\n",
    "}\n",
    "    \n",
    "resp = requests.get(url, params=payload, headers=headers)\n",
    "#print(resp.json())  # 若有需要，列印出json原始碼\n",
    "\n",
    "# 這裡回傳的格式是JSON格式的資料，要解析JSON擷取資料\n",
    "for p in resp.json():\n",
    "    print('放映地區: {0}, 代號(area_id): {1}'.format(p['title'], p['area_id']))"
   ]
  },
  {
   "cell_type": "markdown",
   "metadata": {},
   "source": [
    "### 指定你想要觀看的放映地區，查詢有上映電影的場次日期"
   ]
  },
  {
   "cell_type": "code",
   "execution_count": 76,
   "metadata": {},
   "outputs": [],
   "source": [
    "# 指定放映地區\n",
    "area_id = 28"
   ]
  },
  {
   "cell_type": "code",
   "execution_count": 77,
   "metadata": {},
   "outputs": [
    {
     "name": "stdout",
     "output_type": "stream",
     "text": [
      "十二月 17\n",
      "十二月 18\n",
      "十二月 19\n",
      "十二月 20\n",
      "十二月 21\n"
     ]
    }
   ],
   "source": [
    "# 向網站發送請求\n",
    "url = 'https://movies.yahoo.com.tw/movietime_result.html'\n",
    "payload = {'movie_id':str(movie_id), 'area_id':str(area_id)}\n",
    "resp = requests.get(url, params=payload)\n",
    "resp.encoding = 'utf-8'\n",
    "\n",
    "soup = BeautifulSoup(resp.text, 'lxml')\n",
    "movie_date = soup.find_all(\"label\", attrs={'for':re.compile(\"date_[\\d]\")})\n",
    "\n",
    "# 列印播放日期\n",
    "for date in movie_date:\n",
    "    print(\"%s %s\" % (date.p.string, date.h3.string))"
   ]
  },
  {
   "cell_type": "markdown",
   "metadata": {},
   "source": [
    "### 最後指定觀看的日期，查詢並列印出放映的電影院、放映類型(數位、3D、IMAX 3D...)、放映時間等資訊。"
   ]
  },
  {
   "cell_type": "code",
   "execution_count": 82,
   "metadata": {},
   "outputs": [],
   "source": [
    "# 選定要觀看的日期\n",
    "date = \"2019-12-21\""
   ]
  },
  {
   "cell_type": "code",
   "execution_count": 83,
   "metadata": {},
   "outputs": [],
   "source": [
    "# 向網站發送請求，獲取上映的電影院及時間資訊\n",
    "url = \"https://movies.yahoo.com.tw/ajax/pc/get_schedule_by_movie\"\n",
    "payload = {'movie_id':str(movie_id),\n",
    "           'date':date,\n",
    "           'area_id':str(area_id),\n",
    "           'theater_id':'',\n",
    "           'datetime':'',\n",
    "           'movie_type_id':''}\n",
    "\n",
    "resp = requests.get(url, params=payload)\n",
    "#print(resp.json()['view'])  # 若有需要，列印出json原始碼\n",
    "\n",
    "soup = BeautifulSoup(resp.json()['view'], 'lxml')\n",
    "html = soup.find_all(\"ul\", attrs={'data-theater_name':re.compile(\".*\")})"
   ]
  },
  {
   "cell_type": "code",
   "execution_count": 84,
   "metadata": {},
   "outputs": [
    {
     "data": {
      "text/plain": [
       "[<ul class=\"area_time _c jq_area_time\" data-theater_name=\"台北美麗華大直影城\" data-theater_schedules=\"https://movies.yahoo.com.tw/theater_result.html/id=32\" data-theater_url=\"http://www.miramarcinemas.tw/\" id=\"theater_id_32\">\n",
       " <li class=\"adds\">\n",
       " <a href=\"https://movies.yahoo.com.tw/theater_result.html/id=32\">台北美麗華大直影城</a>\n",
       " <span>02-85022208</span>\n",
       " </li>\n",
       " <li class=\"taps\">\n",
       " <span class=\"tapR\">數位</span> </li>\n",
       " <li class=\"time _c\">\n",
       " <div class=\"input_picker jq_input_picker\">\n",
       " <input class=\"gabtn\" data-cinema=\"40288eb0050f31210ada0f55676b1bbc\" data-date=\"1576857600\" data-ezding=\"ezding\" data-ga=\"['電影頁_時刻表', '電影頁_時刻表_場次', '冰雪奇緣2']\" data-movie=\"a48ba0a6776f4eb6ac87e980006d4c9a\" data-movie_date=\"12.21\" data-movie_time=\"09:00\" data-movie_title=\"冰雪奇緣2\" data-movie_type=\"數位\" data-session=\"1d1565a7e3c641b6a75590d055bc294d\" data-time=\"1576890000\" id=\"72596976\" name=\"schedule_list\" type=\"radio\" value=\"2019-12-21 09:00:00\"/>\n",
       " <label class=\"select\" for=\"72596976\">09:00</label>\n",
       " <input class=\"gabtn\" data-cinema=\"40288eb0050f31210ada0f55676b1bbc\" data-date=\"1576857600\" data-ezding=\"ezding\" data-ga=\"['電影頁_時刻表', '電影頁_時刻表_場次', '冰雪奇緣2']\" data-movie=\"5ead24763f3849d187da38304bde2c37\" data-movie_date=\"12.21\" data-movie_time=\"09:40\" data-movie_title=\"冰雪奇緣2\" data-movie_type=\"數位\" data-session=\"d10140d086434d9ab8121d777a5af0ab\" data-time=\"1576892400\" id=\"72596977\" name=\"schedule_list\" type=\"radio\" value=\"2019-12-21 09:40:00\"/>\n",
       " <label class=\"select\" for=\"72596977\">09:40</label>\n",
       " <input class=\"gabtn\" data-cinema=\"40288eb0050f31210ada0f55676b1bbc\" data-date=\"1576857600\" data-ezding=\"ezding\" data-ga=\"['電影頁_時刻表', '電影頁_時刻表_場次', '冰雪奇緣2']\" data-movie=\"a48ba0a6776f4eb6ac87e980006d4c9a\" data-movie_date=\"12.21\" data-movie_time=\"11:05\" data-movie_title=\"冰雪奇緣2\" data-movie_type=\"數位\" data-session=\"f109ee48102f49cb96efca5e24cfb1c2\" data-time=\"1576897500\" id=\"72596978\" name=\"schedule_list\" type=\"radio\" value=\"2019-12-21 11:05:00\"/>\n",
       " <label class=\"select\" for=\"72596978\">11:05</label>\n",
       " <input class=\"gabtn\" data-cinema=\"40288eb0050f31210ada0f55676b1bbc\" data-date=\"1576857600\" data-ezding=\"ezding\" data-ga=\"['電影頁_時刻表', '電影頁_時刻表_場次', '冰雪奇緣2']\" data-movie=\"5ead24763f3849d187da38304bde2c37\" data-movie_date=\"12.21\" data-movie_time=\"13:10\" data-movie_title=\"冰雪奇緣2\" data-movie_type=\"數位\" data-session=\"ea46ba0231e049bb8d08e5742fec97e0\" data-time=\"1576905000\" id=\"72596979\" name=\"schedule_list\" type=\"radio\" value=\"2019-12-21 13:10:00\"/>\n",
       " <label class=\"select\" for=\"72596979\">13:10</label>\n",
       " <input class=\"gabtn\" data-cinema=\"40288eb0050f31210ada0f55676b1bbc\" data-date=\"1576857600\" data-ezding=\"ezding\" data-ga=\"['電影頁_時刻表', '電影頁_時刻表_場次', '冰雪奇緣2']\" data-movie=\"a48ba0a6776f4eb6ac87e980006d4c9a\" data-movie_date=\"12.21\" data-movie_time=\"13:50\" data-movie_title=\"冰雪奇緣2\" data-movie_type=\"數位\" data-session=\"44a2897af93a46e4a70cb1d4bdb57973\" data-time=\"1576907400\" id=\"72596980\" name=\"schedule_list\" type=\"radio\" value=\"2019-12-21 13:50:00\"/>\n",
       " <label class=\"select\" for=\"72596980\">13:50</label>\n",
       " <input class=\"gabtn\" data-cinema=\"40288eb0050f31210ada0f55676b1bbc\" data-date=\"1576857600\" data-ezding=\"ezding\" data-ga=\"['電影頁_時刻表', '電影頁_時刻表_場次', '冰雪奇緣2']\" data-movie=\"5ead24763f3849d187da38304bde2c37\" data-movie_date=\"12.21\" data-movie_time=\"15:15\" data-movie_title=\"冰雪奇緣2\" data-movie_type=\"數位\" data-session=\"fa2f11df5b4d4521adc72652128d9b7c\" data-time=\"1576912500\" id=\"72596981\" name=\"schedule_list\" type=\"radio\" value=\"2019-12-21 15:15:00\"/>\n",
       " <label class=\"select\" for=\"72596981\">15:15</label>\n",
       " <input class=\"gabtn\" data-cinema=\"40288eb0050f31210ada0f55676b1bbc\" data-date=\"1576857600\" data-ezding=\"ezding\" data-ga=\"['電影頁_時刻表', '電影頁_時刻表_場次', '冰雪奇緣2']\" data-movie=\"a48ba0a6776f4eb6ac87e980006d4c9a\" data-movie_date=\"12.21\" data-movie_time=\"17:20\" data-movie_title=\"冰雪奇緣2\" data-movie_type=\"數位\" data-session=\"54e6e2af51df4e64882c79f60d68b0df\" data-time=\"1576920000\" id=\"72596982\" name=\"schedule_list\" type=\"radio\" value=\"2019-12-21 17:20:00\"/>\n",
       " <label class=\"select\" for=\"72596982\">17:20</label>\n",
       " <input class=\"gabtn\" data-cinema=\"40288eb0050f31210ada0f55676b1bbc\" data-date=\"1576857600\" data-ezding=\"ezding\" data-ga=\"['電影頁_時刻表', '電影頁_時刻表_場次', '冰雪奇緣2']\" data-movie=\"5ead24763f3849d187da38304bde2c37\" data-movie_date=\"12.21\" data-movie_time=\"18:00\" data-movie_title=\"冰雪奇緣2\" data-movie_type=\"數位\" data-session=\"32a4019b050d4ee8ad58536310c90eaa\" data-time=\"1576922400\" id=\"72596983\" name=\"schedule_list\" type=\"radio\" value=\"2019-12-21 18:00:00\"/>\n",
       " <label class=\"select\" for=\"72596983\">18:00</label>\n",
       " <input class=\"gabtn\" data-cinema=\"40288eb0050f31210ada0f55676b1bbc\" data-date=\"1576857600\" data-ezding=\"ezding\" data-ga=\"['電影頁_時刻表', '電影頁_時刻表_場次', '冰雪奇緣2']\" data-movie=\"5ead24763f3849d187da38304bde2c37\" data-movie_date=\"12.21\" data-movie_time=\"19:30\" data-movie_title=\"冰雪奇緣2\" data-movie_type=\"數位\" data-session=\"ee28f0a8b55044dc90818ad65ee27eb4\" data-time=\"1576927800\" id=\"72596984\" name=\"schedule_list\" type=\"radio\" value=\"2019-12-21 19:30:00\"/>\n",
       " <label class=\"select\" for=\"72596984\">19:30</label>\n",
       " <input class=\"gabtn\" data-cinema=\"40288eb0050f31210ada0f55676b1bbc\" data-date=\"1576857600\" data-ezding=\"ezding\" data-ga=\"['電影頁_時刻表', '電影頁_時刻表_場次', '冰雪奇緣2']\" data-movie=\"5ead24763f3849d187da38304bde2c37\" data-movie_date=\"12.21\" data-movie_time=\"23:30\" data-movie_title=\"冰雪奇緣2\" data-movie_type=\"數位\" data-session=\"455e2ad60d374011960e18359a3de455\" data-time=\"1576942200\" id=\"72596985\" name=\"schedule_list\" type=\"radio\" value=\"2019-12-21 23:30:00\"/>\n",
       " <label class=\"select\" for=\"72596985\">23:30</label>\n",
       " </div>\n",
       " </li>\n",
       " </ul>,\n",
       " <ul class=\"area_time _c jq_area_time\" data-theater_name=\"梅花數位影院\" data-theater_schedules=\"https://movies.yahoo.com.tw/theater_result.html/id=126\" data-theater_url=\"\" id=\"theater_id_126\">\n",
       " <li class=\"adds\">\n",
       " <a href=\"https://movies.yahoo.com.tw/theater_result.html/id=126\">梅花數位影院</a>\n",
       " <span>02-27326968</span>\n",
       " </li>\n",
       " <li class=\"taps\">\n",
       " <span class=\"tapR\">數位</span> </li>\n",
       " <li class=\"time _c\">\n",
       " <div class=\"input_picker jq_input_picker\">\n",
       " <input class=\"gabtn\" data-cinema=\"b020ba50fbc811e58858f2128151146f\" data-date=\"1576857600\" data-ezding=\"ezding\" data-ga=\"['電影頁_時刻表', '電影頁_時刻表_場次', '冰雪奇緣2']\" data-movie=\"911797a2d2314aa59a74280f88552786\" data-movie_date=\"12.21\" data-movie_time=\"10:00\" data-movie_title=\"冰雪奇緣2\" data-movie_type=\"數位\" data-session=\"e0a9c2da88134e869de66cbd76419209\" data-time=\"1576893600\" id=\"72595254\" name=\"schedule_list\" type=\"radio\" value=\"2019-12-21 10:00:00\"/>\n",
       " <label class=\"select\" for=\"72595254\">10:00</label>\n",
       " <input class=\"gabtn\" data-cinema=\"b020ba50fbc811e58858f2128151146f\" data-date=\"1576857600\" data-ezding=\"ezding\" data-ga=\"['電影頁_時刻表', '電影頁_時刻表_場次', '冰雪奇緣2']\" data-movie=\"911797a2d2314aa59a74280f88552786\" data-movie_date=\"12.21\" data-movie_time=\"17:00\" data-movie_title=\"冰雪奇緣2\" data-movie_type=\"數位\" data-session=\"4ff08c1503f84982b3f471bcfca49b7c\" data-time=\"1576918800\" id=\"72595255\" name=\"schedule_list\" type=\"radio\" value=\"2019-12-21 17:00:00\"/>\n",
       " <label class=\"select\" for=\"72595255\">17:00</label>\n",
       " </div>\n",
       " </li>\n",
       " </ul>,\n",
       " <ul class=\"area_time _c jq_area_time\" data-theater_name=\"台北新民生戲院\" data-theater_schedules=\"https://movies.yahoo.com.tw/theater_result.html/id=144\" data-theater_url=\"http://www.newminshen.com/\" id=\"theater_id_144\">\n",
       " <li class=\"adds\">\n",
       " <a href=\"https://movies.yahoo.com.tw/theater_result.html/id=144\">台北新民生戲院</a>\n",
       " <span>02-27653373</span>\n",
       " </li>\n",
       " <li class=\"taps\">\n",
       " <span class=\"tapR\">數位</span> </li>\n",
       " <li class=\"time _c\">\n",
       " <div class=\"input_picker jq_input_picker\">\n",
       " <input class=\"gabtn\" data-cinema=\"4c163aba9c5311e494ae8b4ddf78b93a\" data-date=\"1576857600\" data-ezding=\"ezding\" data-ga=\"['電影頁_時刻表', '電影頁_時刻表_場次', '冰雪奇緣2']\" data-movie=\"1428bc49cc2b4f35baa5737ceec2e233\" data-movie_date=\"12.21\" data-movie_time=\"17:10\" data-movie_title=\"冰雪奇緣2\" data-movie_type=\"數位\" data-session=\"dada00bb2f4b4d758d16e5fd2c7a441f\" data-time=\"1576919400\" id=\"72602689\" name=\"schedule_list\" type=\"radio\" value=\"2019-12-21 17:10:00\"/>\n",
       " <label class=\"select\" for=\"72602689\">17:10</label>\n",
       " </div>\n",
       " </li>\n",
       " </ul>]"
      ]
     },
     "execution_count": 84,
     "metadata": {},
     "output_type": "execute_result"
    }
   ],
   "source": [
    "html"
   ]
  },
  {
   "cell_type": "code",
   "execution_count": 90,
   "metadata": {},
   "outputs": [
    {
     "name": "stdout",
     "output_type": "stream",
     "text": [
      "----------------------------------------------------------------------\n",
      "電影院:  台北美麗華大直影城\n",
      "放映類型:  數位\n",
      "2019-12-21 09:00:00\n",
      "2019-12-21 09:40:00\n",
      "2019-12-21 11:05:00\n",
      "2019-12-21 13:10:00\n",
      "2019-12-21 13:50:00\n",
      "2019-12-21 15:15:00\n",
      "2019-12-21 17:20:00\n",
      "2019-12-21 18:00:00\n",
      "2019-12-21 19:30:00\n",
      "2019-12-21 23:30:00\n",
      "----------------------------------------------------------------------\n",
      "電影院:  梅花數位影院\n",
      "放映類型:  數位\n",
      "2019-12-21 10:00:00\n",
      "2019-12-21 17:00:00\n",
      "----------------------------------------------------------------------\n",
      "電影院:  台北新民生戲院\n",
      "放映類型:  數位\n",
      "2019-12-21 17:10:00\n"
     ]
    }
   ],
   "source": [
    "'''\n",
    "\n",
    "  試著從上一步驟回傳的電影院資料中，擷取電影院名稱、影片放映類型以及時間表\n",
    "  \n",
    "  Your code here.\n",
    "\n",
    "'''\n",
    "\n",
    "for h in html:\n",
    "    print(\"----------------------------------------------------------------------\")    \n",
    "    theater_name = h.find(\"li\", attrs={'class':'adds'})\n",
    "    print(\"電影院: \", theater_name.a.string)\n",
    "\n",
    "    movie_type = h.find_all(\"li\", attrs={'class':'taps'})  # 放映類型      \n",
    "    movie_time = h.find_all(\"li\", attrs={'class':'time _c'})  # 時間表\n",
    "        \n",
    "    for i in range(len(movie_type)):\n",
    "        print(\"放映類型: \", movie_type[i].span.get_text())  # 電影類型        \n",
    "        for t in movie_time[i].find_all(\"input\", attrs={'name':'schedule_list'}):\n",
    "            print(\"%s\" % (t[\"value\"]))  # 放映時間"
   ]
  },
  {
   "cell_type": "code",
   "execution_count": null,
   "metadata": {},
   "outputs": [],
   "source": []
  },
  {
   "cell_type": "code",
   "execution_count": null,
   "metadata": {},
   "outputs": [],
   "source": []
  }
 ],
 "metadata": {
  "kernelspec": {
   "display_name": "Python 3",
   "language": "python",
   "name": "python3"
  },
  "language_info": {
   "codemirror_mode": {
    "name": "ipython",
    "version": 3
   },
   "file_extension": ".py",
   "mimetype": "text/x-python",
   "name": "python",
   "nbconvert_exporter": "python",
   "pygments_lexer": "ipython3",
   "version": "3.7.4"
  }
 },
 "nbformat": 4,
 "nbformat_minor": 2
}
