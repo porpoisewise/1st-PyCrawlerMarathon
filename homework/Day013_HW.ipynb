{
 "cells": [
  {
   "cell_type": "markdown",
   "metadata": {},
   "source": [
    "# PTT 網路爬蟲實作練習\n",
    "\n",
    "\n",
    "* 能夠利用 Request + BeatifulSour 撰寫爬蟲，並存放到合適的資料結構\n"
   ]
  },
  {
   "cell_type": "markdown",
   "metadata": {},
   "source": [
    "## 作業目標\n",
    "\n",
    "根據範例 ，完成以下問題：\n",
    "\n",
    "* ① 印出最新文章的「作者」「標題」「時間」\n",
    "* ② 印出第一頁所有文章的「作者」「標題」「時間」\n"
   ]
  },
  {
   "cell_type": "markdown",
   "metadata": {},
   "source": [
    "### ① 印出最新文章的「作者」「標題」「時間」"
   ]
  },
  {
   "cell_type": "code",
   "execution_count": 8,
   "metadata": {},
   "outputs": [
    {
     "name": "stdout",
     "output_type": "stream",
     "text": [
      "[情報] 勇士官方推特另外發文補上KD照片\n",
      "作者: TheBatman (蝙蝠俠)\n",
      "[花邊] 水行俠講今天的制勝罰球:我嚇到挫賽\n",
      "作者: pneumo (超☆冒險蓋)\n",
      "Re: [情報] 勇士官方發佈近十年經典鏡頭影片無KD\n",
      "作者: icpolonaise (快速向上衝!!)\n",
      "[新聞] 紫金最強雙人組對決 歐尼爾：2打2選誰？\n",
      "作者: jimmy5680 (If Penguins May Fly)\n",
      "[公告] 板規v6.7\n",
      "[公告] 樂透取消及未來不再開啟樂透\n",
      "作者: Vedan (味丹)\n",
      "[公告] 版主上任相關事項 \n",
      "作者: qazwsx879345 (Rajon Rondo)\n",
      "[情報] SEASON Schedule 賽程 December 19–20\n",
      "作者: JerroLi (銀色小刀)\n",
      "[公告] 是否禁止記者鄭廷瑋文章投票開始\n",
      "作者: dragon803 (好想去露營啊~)\n"
     ]
    }
   ],
   "source": [
    "import requests\n",
    "from bs4 import BeautifulSoup\n",
    "\n",
    "url = 'https://www.ptt.cc/bbs/NBA/index.html'\n",
    "r = requests.get(url)\n",
    "\n",
    "soup = BeautifulSoup(r.text, \"html5lib\")\n",
    "\n",
    "for d in soup.find_all(class_=\"title\"):\n",
    "    print(d.text.replace('\\t', '').replace('\\n', ''))\n",
    "    try:\n",
    "        r = BeautifulSoup(requests.get('https://www.ptt.cc'+d.find('a')['href']).text, \"html5lib\")\n",
    "        print('作者: ' + r.find(class_='article-meta-value').text)\n",
    "    except:\n",
    "        continue"
   ]
  },
  {
   "cell_type": "markdown",
   "metadata": {},
   "source": [
    "### ② 印出第一頁所有文章的「作者」「標題」「時間」"
   ]
  },
  {
   "cell_type": "code",
   "execution_count": 9,
   "metadata": {},
   "outputs": [
    {
     "name": "stdout",
     "output_type": "stream",
     "text": [
      "[轉錄]Lyotard 對於太陽板討論串的結論\n",
      "作者: Price (Price)\n",
      "[公告] 請停止一切關於本次活動的發言\n",
      "作者: Price (Price)\n",
      "[轉錄]跟之前那篇比起來 我覺得這篇也應該轉過來\n",
      "作者: Frankaze (神采風華)\n",
      "[轉錄]再轉一篇好文來\n",
      "作者: Frankaze (神采風華)\n",
      "[轉錄][情報] 夏洛特山貓系列\n",
      "作者: Price (Price)\n",
      "[轉錄]Re: [心得] 真是受不了糗爺....\n",
      "作者: Price (Price)\n",
      "[轉錄]總冠軍賽NO.2觀後感\n",
      "作者: Price (Price)\n",
      "[心得] Rasheed Wallace\n",
      "作者: AmuroNamie (原來太嗨真的會失眠^___^)\n",
      "掌控球賽的男人\n",
      "作者: toptree (  )\n",
      "[閒聊] 說說2004季後賽名場面回顧\n",
      "作者: skchang (3EB板開板囉！)\n",
      "[心得] 其實說穿了 就是活塞的防守太可怕了\n",
      "作者: shineup ()\n",
      "Re: [閒聊] 說說2004季後賽名場面回顧\n",
      "作者: cOvi (喵~)\n",
      "Re: [閒聊] 說說2004季後賽名場面回顧\n",
      "作者: ykshih (￼N￼Ns)\n",
      "Re: [閒聊] 說說2004季後賽名場面回顧\n",
      "作者: Frankaze (神采風華)\n",
      "[轉錄]Re: 總冠軍賽NO.3觀後感\n",
      "作者: Price (Price)\n",
      "[轉錄]Re: 總冠軍賽NO.3觀後感\n",
      "作者: Frankaze (神采風華)\n",
      "Re: [轉錄]Re: 總冠軍賽NO.3觀後感\n",
      "作者: star1 (第一次魔術表演不算成功)\n",
      "Re: [轉錄]Re: 總冠軍賽NO.3觀後感\n",
      "作者: coldspring (笑笑)\n",
      "Re: Kobe is frustrated...\n",
      "作者: airbear (地圖)\n",
      "Re: [轉錄]Re: 總冠軍賽NO.3觀後感\n",
      "作者: pennykidd (andre)\n"
     ]
    }
   ],
   "source": [
    "'''\n",
    "Your Code\n",
    "'''\n",
    "url = 'https://www.ptt.cc/bbs/NBA/index1.html'\n",
    "r = requests.get(url)\n",
    "\n",
    "soup = BeautifulSoup(r.text, \"html5lib\")\n",
    "\n",
    "for d in soup.find_all(class_=\"title\"):\n",
    "    print(d.text.replace('\\t', '').replace('\\n', ''))\n",
    "    try:\n",
    "        r = BeautifulSoup(requests.get('https://www.ptt.cc'+d.find('a')['href']).text, \"html5lib\")\n",
    "        print('作者: ' + r.find(class_='article-meta-value').text)\n",
    "    except:\n",
    "        continue"
   ]
  },
  {
   "cell_type": "markdown",
   "metadata": {},
   "source": [
    "### ③ 試著爬爬看其他版的文章"
   ]
  },
  {
   "cell_type": "code",
   "execution_count": 10,
   "metadata": {},
   "outputs": [
    {
     "name": "stdout",
     "output_type": "stream",
     "text": [
      "[請益] 急！盤後零股要掛多少才買得到台積電\n",
      "作者: aaasssddd (希望相隨)\n",
      "[新聞] 雙王火力全開 台股漲157點輕鬆飛躍「萬二\n",
      "作者: sodabing (☺ )\n",
      "[閒聊] 2019/12/17 盤後閒聊\n",
      "作者: WolFDragoN (低調)\n",
      "(本文已被刪除) [housemance]\n",
      "[新聞] 房貸利率、失業率低，美國建商信心登1999\n",
      "作者: SP500StrongB (標普500十萬點)\n",
      "Re: [心得] 台積電\n",
      "作者: cosmite (Z)\n",
      "[公告] 精華區導覽Q&A\n",
      "作者: IanLi (IanLi)\n",
      "[公告] Stock 板規V2.6             (2019/06/20)\n",
      "[閒聊] 2019/12/17 盤中閒聊\n",
      "作者: justforsing (雯晴啦不是晴雯)\n"
     ]
    }
   ],
   "source": [
    "'''\n",
    "Your Code\n",
    "'''\n",
    "url = 'https://www.ptt.cc/bbs/Stock/index.html'\n",
    "r = requests.get(url)\n",
    "\n",
    "soup = BeautifulSoup(r.text, \"html5lib\")\n",
    "\n",
    "for d in soup.find_all(class_=\"title\"):\n",
    "    print(d.text.replace('\\t', '').replace('\\n', ''))\n",
    "    try:\n",
    "        r = BeautifulSoup(requests.get('https://www.ptt.cc'+d.find('a')['href']).text, \"html5lib\")\n",
    "        print('作者: ' + r.find(class_='article-meta-value').text)\n",
    "    except:\n",
    "        continue"
   ]
  },
  {
   "cell_type": "code",
   "execution_count": null,
   "metadata": {},
   "outputs": [],
   "source": []
  }
 ],
 "metadata": {
  "kernelspec": {
   "display_name": "Python 3",
   "language": "python",
   "name": "python3"
  },
  "language_info": {
   "codemirror_mode": {
    "name": "ipython",
    "version": 3
   },
   "file_extension": ".py",
   "mimetype": "text/x-python",
   "name": "python",
   "nbconvert_exporter": "python",
   "pygments_lexer": "ipython3",
   "version": "3.7.4"
  }
 },
 "nbformat": 4,
 "nbformat_minor": 2
}
